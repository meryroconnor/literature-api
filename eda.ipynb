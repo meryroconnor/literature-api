{
 "cells": [
  {
   "cell_type": "code",
   "execution_count": 1,
   "metadata": {},
   "outputs": [],
   "source": [
    "import requests\n",
    "import pandas as pd\n",
    "import psycopg2\n",
    "import json\n",
    "from redshift_utils import cargar_en_redshift,conn_redshift"
   ]
  },
  {
   "cell_type": "code",
   "execution_count": 2,
   "metadata": {},
   "outputs": [],
   "source": [
    "base_url = \"https://gutendex.com/books\"\n",
    "url = f\"{base_url}?author_year_start=2000\"\n",
    "response = requests.get(url)\n",
    "data = response.json()"
   ]
  },
  {
   "cell_type": "code",
   "execution_count": 3,
   "metadata": {},
   "outputs": [],
   "source": [
    "autor = []\n",
    "autor_nacimiento = []\n",
    "autor_muerte = []\n",
    "libro = []\n",
    "genero = []\n",
    "download_count = []\n",
    "\n",
    "for i in range(0,32):\n",
    "    autor.append(data[\"results\"][i][\"authors\"][0][\"name\"])\n",
    "    autor_nacimiento.append(data[\"results\"][i][\"authors\"][0][\"birth_year\"])\n",
    "    autor_muerte.append(data[\"results\"][i][\"authors\"][0][\"death_year\"])\n",
    "    libro.append(data[\"results\"][i][\"title\"])\n",
    "    #genero.append(data[\"results\"][i][\"bookshelves\"])\n",
    "    download_count.append(data[\"results\"][i][\"download_count\"])\n",
    "\n",
    "df = pd.DataFrame({\"autor\":autor,\"nacimiento\":autor_nacimiento\n",
    "                ,\"muerte\":autor_muerte,\"titulo\":libro,\"download_count\":download_count})\n",
    "\n",
    "df.sort_values(by=\"download_count\", ascending=False, inplace=True)\n"
   ]
  },
  {
   "cell_type": "code",
   "execution_count": 4,
   "metadata": {},
   "outputs": [
    {
     "name": "stdout",
     "output_type": "stream",
     "text": [
      "Connected to Redshift successfully!\n",
      "Proceso terminado\n"
     ]
    }
   ],
   "source": [
    "conn_db_coder = conn_redshift(\".env/pwd_coder.txt\")\n",
    "cargar_en_redshift(conn=conn_db_coder, table_name=\"books\",dataframe=df)"
   ]
  },
  {
   "cell_type": "code",
   "execution_count": null,
   "metadata": {},
   "outputs": [],
   "source": []
  },
  {
   "cell_type": "code",
   "execution_count": null,
   "metadata": {},
   "outputs": [],
   "source": []
  }
 ],
 "metadata": {
  "kernelspec": {
   "display_name": "etl-prices",
   "language": "python",
   "name": "python3"
  },
  "language_info": {
   "codemirror_mode": {
    "name": "ipython",
    "version": 3
   },
   "file_extension": ".py",
   "mimetype": "text/x-python",
   "name": "python",
   "nbconvert_exporter": "python",
   "pygments_lexer": "ipython3",
   "version": "3.8.15"
  },
  "orig_nbformat": 4
 },
 "nbformat": 4,
 "nbformat_minor": 2
}
