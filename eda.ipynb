{
 "cells": [
  {
   "cell_type": "code",
   "execution_count": 1,
   "metadata": {},
   "outputs": [],
   "source": [
    "import requests\n",
    "import pandas as pd\n",
    "import psycopg2\n",
    "import json\n",
    "from redshift_utils import cargar_en_redshift,conn_redshift"
   ]
  },
  {
   "cell_type": "code",
   "execution_count": 2,
   "metadata": {},
   "outputs": [],
   "source": [
    "base_url = \"https://gutendex.com/books\"\n",
    "url = f\"{base_url}?author_year_start=2000\"\n",
    "response = requests.get(url)\n",
    "data = response.json()"
   ]
  },
  {
   "cell_type": "code",
   "execution_count": 3,
   "metadata": {},
   "outputs": [],
   "source": [
    "autor = []\n",
    "autor_nacimiento = []\n",
    "autor_muerte = []\n",
    "libro = []\n",
    "genero = []\n",
    "download_count = []\n",
    "\n",
    "for i in range(0,32):\n",
    "    autor.append(data[\"results\"][i][\"authors\"][0][\"name\"])\n",
    "    autor_nacimiento.append(data[\"results\"][i][\"authors\"][0][\"birth_year\"])\n",
    "    autor_muerte.append(data[\"results\"][i][\"authors\"][0][\"death_year\"])\n",
    "    libro.append(data[\"results\"][i][\"title\"])\n",
    "    #genero.append(data[\"results\"][i][\"bookshelves\"])\n",
    "    download_count.append(data[\"results\"][i][\"download_count\"])\n",
    "\n",
    "df = pd.DataFrame({\"autor\":autor,\"año_nacimiento\":autor_nacimiento\n",
    "                ,\"año_muerte\":autor_muerte,\"titulo\":libro,\"download_count\":download_count})\n",
    "\n",
    "df.sort_values(by=\"download_count\", ascending=False, inplace=True)\n"
   ]
  },
  {
   "cell_type": "code",
   "execution_count": 4,
   "metadata": {},
   "outputs": [
    {
     "data": {
      "text/html": [
       "<div>\n",
       "<style scoped>\n",
       "    .dataframe tbody tr th:only-of-type {\n",
       "        vertical-align: middle;\n",
       "    }\n",
       "\n",
       "    .dataframe tbody tr th {\n",
       "        vertical-align: top;\n",
       "    }\n",
       "\n",
       "    .dataframe thead th {\n",
       "        text-align: right;\n",
       "    }\n",
       "</style>\n",
       "<table border=\"1\" class=\"dataframe\">\n",
       "  <thead>\n",
       "    <tr style=\"text-align: right;\">\n",
       "      <th></th>\n",
       "      <th>autor</th>\n",
       "      <th>año_nacimiento</th>\n",
       "      <th>año_muerte</th>\n",
       "      <th>titulo</th>\n",
       "      <th>download_count</th>\n",
       "    </tr>\n",
       "  </thead>\n",
       "  <tbody>\n",
       "    <tr>\n",
       "      <th>0</th>\n",
       "      <td>Vonnegut, Kurt</td>\n",
       "      <td>1922</td>\n",
       "      <td>2007</td>\n",
       "      <td>2 B R 0 2 B</td>\n",
       "      <td>3341</td>\n",
       "    </tr>\n",
       "    <tr>\n",
       "      <th>1</th>\n",
       "      <td>Hunter, Evan</td>\n",
       "      <td>1926</td>\n",
       "      <td>2005</td>\n",
       "      <td>Reaching for the moon</td>\n",
       "      <td>1545</td>\n",
       "    </tr>\n",
       "    <tr>\n",
       "      <th>2</th>\n",
       "      <td>Harrison, Harry</td>\n",
       "      <td>1925</td>\n",
       "      <td>2012</td>\n",
       "      <td>The stainless steel rat</td>\n",
       "      <td>1382</td>\n",
       "    </tr>\n",
       "    <tr>\n",
       "      <th>3</th>\n",
       "      <td>Marlowe, Stephen</td>\n",
       "      <td>1928</td>\n",
       "      <td>2008</td>\n",
       "      <td>Fugue</td>\n",
       "      <td>1005</td>\n",
       "    </tr>\n",
       "    <tr>\n",
       "      <th>4</th>\n",
       "      <td>Vonnegut, Kurt</td>\n",
       "      <td>1922</td>\n",
       "      <td>2007</td>\n",
       "      <td>The Big Trip Up Yonder</td>\n",
       "      <td>775</td>\n",
       "    </tr>\n",
       "  </tbody>\n",
       "</table>\n",
       "</div>"
      ],
      "text/plain": [
       "              autor  año_nacimiento  año_muerte                   titulo  \\\n",
       "0    Vonnegut, Kurt            1922        2007              2 B R 0 2 B   \n",
       "1      Hunter, Evan            1926        2005    Reaching for the moon   \n",
       "2   Harrison, Harry            1925        2012  The stainless steel rat   \n",
       "3  Marlowe, Stephen            1928        2008                    Fugue   \n",
       "4    Vonnegut, Kurt            1922        2007   The Big Trip Up Yonder   \n",
       "\n",
       "   download_count  \n",
       "0            3341  \n",
       "1            1545  \n",
       "2            1382  \n",
       "3            1005  \n",
       "4             775  "
      ]
     },
     "execution_count": 4,
     "metadata": {},
     "output_type": "execute_result"
    }
   ],
   "source": [
    "df.head()"
   ]
  },
  {
   "cell_type": "code",
   "execution_count": 5,
   "metadata": {},
   "outputs": [
    {
     "name": "stdout",
     "output_type": "stream",
     "text": [
      "Connected to Redshift successfully!\n",
      "Proceso terminado\n"
     ]
    }
   ],
   "source": [
    "conn_db_coder = conn_redshift(\".env/pwd_coder.txt\")\n",
    "cargar_en_redshift(conn=conn_db_coder, table_name=\"books\",dataframe=df)"
   ]
  }
 ],
 "metadata": {
  "kernelspec": {
   "display_name": "etl-prices",
   "language": "python",
   "name": "python3"
  },
  "language_info": {
   "codemirror_mode": {
    "name": "ipython",
    "version": 3
   },
   "file_extension": ".py",
   "mimetype": "text/x-python",
   "name": "python",
   "nbconvert_exporter": "python",
   "pygments_lexer": "ipython3",
   "version": "3.8.15"
  },
  "orig_nbformat": 4
 },
 "nbformat": 4,
 "nbformat_minor": 2
}
